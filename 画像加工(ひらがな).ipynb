{
  "nbformat": 4,
  "nbformat_minor": 0,
  "metadata": {
    "colab": {
      "provenance": [],
      "authorship_tag": "ABX9TyOGaWfbcj3SIkS7gTBh/mKB",
      "include_colab_link": true
    },
    "kernelspec": {
      "name": "python3",
      "display_name": "Python 3"
    },
    "language_info": {
      "name": "python"
    }
  },
  "cells": [
    {
      "cell_type": "markdown",
      "metadata": {
        "id": "view-in-github",
        "colab_type": "text"
      },
      "source": [
        "<a href=\"https://colab.research.google.com/github/makkyo-git/python-collection/blob/mabo/%E7%94%BB%E5%83%8F%E5%8A%A0%E5%B7%A5(%E3%81%B2%E3%82%89%E3%81%8C%E3%81%AA).ipynb\" target=\"_parent\"><img src=\"https://colab.research.google.com/assets/colab-badge.svg\" alt=\"Open In Colab\"/></a>"
      ]
    },
    {
      "cell_type": "code",
      "source": [
        "from google.colab import drive\n",
        "drive.mount('/content/drive/')"
      ],
      "metadata": {
        "colab": {
          "base_uri": "https://localhost:8080/"
        },
        "id": "fTGa9BdbbRrd",
        "outputId": "eeb3552b-5b74-43fe-9423-81691db8cf6c"
      },
      "execution_count": null,
      "outputs": [
        {
          "output_type": "stream",
          "name": "stdout",
          "text": [
            "Mounted at /content/drive/\n"
          ]
        }
      ]
    },
    {
      "cell_type": "code",
      "execution_count": null,
      "metadata": {
        "id": "Bw9Ehhz5Yykg",
        "colab": {
          "base_uri": "https://localhost:8080/"
        },
        "outputId": "c5c2361b-6c0c-4f6e-8677-8ab7f19f1e27"
      },
      "outputs": [
        {
          "output_type": "stream",
          "name": "stdout",
          "text": [
            "Looking in indexes: https://pypi.org/simple, https://us-python.pkg.dev/colab-wheels/public/simple/\n",
            "Requirement already satisfied: opencv-python in /usr/local/lib/python3.7/dist-packages (4.1.2.30)\n",
            "Requirement already satisfied: numpy>=1.14.5 in /usr/local/lib/python3.7/dist-packages (from opencv-python) (1.21.6)\n"
          ]
        }
      ],
      "source": [
        "!pip3 install opencv-python"
      ]
    },
    {
      "cell_type": "markdown",
      "source": [
        "文字を回転させるコード↓"
      ],
      "metadata": {
        "id": "HfO9YD7s945G"
      }
    },
    {
      "cell_type": "code",
      "source": [
        "import cv2\n",
        "import numpy as np\n",
        "from google.colab.patches import cv2_imshow\n",
        "# datasetは、自分が読み込ませたい画像のパスを書く\n",
        "image = cv2.imread('/content/drive/MyDrive/dataset)\n",
        "\n",
        "angle = 3\n",
        "h, w = image.shape[:2]\n",
        "affine = cv2.getRotationMatrix2D((w/2.0, h/2.0), angle, 1.0)\n",
        "image1 = cv2.warpAffine(image, affine, (w,h))\n",
        "\n",
        "cv2_imshow(image)\n",
        "cv2_imshow(image1)\n",
        "cv2.imwrite('/content/drive/MyDrive/dataset2', image1)"
      ],
      "metadata": {
        "id": "iOL34la2af3s",
        "colab": {
          "base_uri": "https://localhost:8080/",
          "height": 292
        },
        "outputId": "bcc5c638-1a96-4642-9d92-d1fec8f708af"
      },
      "execution_count": null,
      "outputs": [
        {
          "output_type": "display_data",
          "data": {
            "text/plain": [
              "<PIL.Image.Image image mode=RGB size=129x129 at 0x7F1CD6C26D10>"
            ],
            "image/png": "[encoded data removed]"
          },
          "metadata": {}
        },
        {
          "output_type": "display_data",
          "data": {
            "text/plain": [
              "<PIL.Image.Image image mode=RGB size=129x129 at 0x7F1CD6C26FD0>"
            ],
            "image/png": "[encoded data removed]"
          },
          "metadata": {}
        },
        {
          "output_type": "execute_result",
          "data": {
            "text/plain": [
              "True"
            ]
          },
          "metadata": {},
          "execution_count": 26
        }
      ]
    },
    {
      "cell_type": "markdown",
      "source": [
        "① 画像の輝度値数を変えるコード↓"
      ],
      "metadata": {
        "id": "OeB42-l34JL2"
      }
    },
    {
      "cell_type": "code",
      "source": [
        "import cv2\n",
        "import numpy as np\n",
        "from google.colab.patches import cv2_imshow\n",
        "\n",
        "# datasetは、自分が読み込ませたい画像のパスを書く\n",
        "img=cv2.imread('/content/drive/MyDrive/dataset',0)\n",
        "# γ変換の値(文字の濃さを変えるなら、この数値を変えてください)\n",
        "gamma=0.3\n",
        "# γ変換の対応表を作る対応表を作る\n",
        "LUT_Table=np.zeros((256,1),dtype='uint8')\n",
        "for i in range(len(LUT_Table)):\n",
        "    LUT_Table[i][0]=255*(float(i)/255)**(1.0/gamma)\n",
        "\n",
        "# γ変換をする\n",
        "img_gamma=cv2.LUT(img,LUT_Table)\n",
        "\n",
        "#画像の表示\n",
        "cv2_imshow(img_gamma)\n",
        "\n",
        "#加工した画像の書き込み\n",
        "cv2.imwrite('/content/drive/MyDrive/dataset2', img_gamma)"
      ],
      "metadata": {
        "colab": {
          "base_uri": "https://localhost:8080/",
          "height": 163
        },
        "id": "tQ2tWeO9xG7H",
        "outputId": "d30668cd-b577-40e5-e7b7-80d4c5159d88"
      },
      "execution_count": null,
      "outputs": [
        {
          "output_type": "display_data",
          "data": {
            "text/plain": [
              "<PIL.Image.Image image mode=L size=129x129 at 0x7F74B1495D50>"
            ],
            "image/png": "[encoded data removed]"
          },
          "metadata": {}
        },
        {
          "output_type": "execute_result",
          "data": {
            "text/plain": [
              "True"
            ]
          },
          "metadata": {},
          "execution_count": 35
        }
      ]
    },
    {
      "cell_type": "markdown",
      "source": [
        "②-1. 文字を回転させて、輪郭を取得して、角度を変えるコード↓"
      ],
      "metadata": {
        "id": "5PxW-gdCRibR"
      }
    },
    {
      "cell_type": "code",
      "source": [
        "import cv2\n",
        "import numpy as np\n",
        "from google.colab.patches import cv2_imshow\n",
        "\n",
        "# datasetは、自分が読み込ませたい画像のパスを書く\n",
        "image = cv2.imread('/content/drive/MyDrive/dataset',0)\n",
        "# 文字の太さを変えるならここの数値を変えてください\n",
        "kernel = np.ones((2,3),np.uint8)\n",
        "erosion = cv2.erode(image,kernel,iterations = 1)\n",
        "\n",
        "cv2_imshow(erosion)\n",
        "\n",
        "erosion = 255 - erosion\n",
        "\n",
        "contours, hierarchy = cv2.findContours(erosion, cv2.RETR_LIST, cv2.CHAIN_APPROX_NONE)\n",
        "output_image = cv2.cvtColor(erosion, cv2.COLOR_GRAY2BGR)\n",
        "# thicknessの値を変えると、輪郭の線の太さが変えられます\n",
        "output_image = cv2.drawContours(output_image, contours, contourIdx=-1, color=(171,171,171),thickness=3)\n",
        "output_image = 255 - output_image\n",
        "\n",
        "cv2_imshow(output_image)\n",
        "\n",
        "dilation = cv2.dilate(output_image,kernel,iterations=1)\n",
        "cv2_imshow(dilation)\n",
        "\n",
        "# 文字の角度を変えたいなら、ここの数値を変えてください\n",
        "angle = 5\n",
        "h, w = image.shape[:2]\n",
        "affine = cv2.getRotationMatrix2D((w/2.0, h/2.0), angle, 1.0)\n",
        "dilation2 = cv2.warpAffine(dilation, affine, (w,h))\n",
        "\n",
        "cv2_imshow(dilation2)\n",
        "#加工した画像の書き込み\n",
        "cv2.imwrite('/content/drive/MyDrive/dataset2', dilation2)"
      ],
      "metadata": {
        "colab": {
          "base_uri": "https://localhost:8080/",
          "height": 550
        },
        "id": "m1QVQIYqR2LL",
        "outputId": "060ecb1c-0718-462a-877e-9bdd383aad4d"
      },
      "execution_count": null,
      "outputs": [
        {
          "output_type": "display_data",
          "data": {
            "text/plain": [
              "<PIL.Image.Image image mode=L size=129x129 at 0x7F74B1492650>"
            ],
            "image/png": "[encoded data removed]"
          },
          "metadata": {}
        },
        {
          "output_type": "display_data",
          "data": {
            "text/plain": [
              "<PIL.Image.Image image mode=RGB size=129x129 at 0x7F74B1492E50>"
            ],
            "image/png": "[encoded data removed]"
          },
          "metadata": {}
        },
        {
          "output_type": "display_data",
          "data": {
            "text/plain": [
              "<PIL.Image.Image image mode=RGB size=129x129 at 0x7F74B1492D10>"
            ],
            "image/png": "[encoded data removed]"
          },
          "metadata": {}
        },
        {
          "output_type": "display_data",
          "data": {
            "text/plain": [
              "<PIL.Image.Image image mode=RGB size=129x129 at 0x7F74B1492BD0>"
            ],
            "image/png": "[encoded data removed]"
          },
          "metadata": {}
        },
        {
          "output_type": "execute_result",
          "data": {
            "text/plain": [
              "True"
            ]
          },
          "metadata": {},
          "execution_count": 36
        }
      ]
    },
    {
      "cell_type": "markdown",
      "source": [
        "②-2. ノイズを消すためのコード"
      ],
      "metadata": {
        "id": "RTfCe5nyji_y"
      }
    },
    {
      "cell_type": "code",
      "source": [
        "import cv2\n",
        "import numpy as np\n",
        "from google.colab.patches import cv2_imshow\n",
        "\n",
        "# datasetは、自分が読み込ませたい画像のパスを書く\n",
        "image = cv2.imread('/content/drive/MyDrive/dataset',0)\n",
        "# 文字の細さを変えるならここの数値を変えてください\n",
        "kernel = np.ones((1,4),np.uint8)\n",
        "dilation = cv2.dilate(image,kernel,iterations = 1)\n",
        "\n",
        "cv2_imshow(dilation)\n",
        "\n",
        "dilation = 255 - dilation\n",
        "\n",
        "contours, hierarchy = cv2.findContours(dilation, cv2.RETR_LIST, cv2.CHAIN_APPROX_NONE)\n",
        "output_image = cv2.cvtColor(dilation, cv2.COLOR_GRAY2BGR)\n",
        "# thicknessの値を変えると、輪郭の線の太さを変えることができます\n",
        "output_image = cv2.drawContours(output_image, contours, contourIdx=-1, color=(171,171,171),thickness=1)\n",
        "output_image = 255 - output_image\n",
        "\n",
        "#加工した画像の書き込み\n",
        "cv2.imwrite('/content/drive/MyDrive/dataset2', output_image)\n",
        "cv2_imshow(output_image)\n",
        "\n",
        "image2 = cv2.imread('/content/drive/MyDrive/dataset2',0)\n",
        "# 文字を太くしたいなら、ここの数値を変えてください\n",
        "change = np.ones((6,2),np.uint8)\n",
        "erosion = cv2.erode(image2,change,iterations=1)\n",
        "cv2_imshow(erosion)\n",
        "\n",
        "erosion = 255 - erosion\n",
        "\n",
        "contours, hierarchy = cv2.findContours(dilation, cv2.RETR_LIST, cv2.CHAIN_APPROX_NONE)\n",
        "output_image2 = cv2.cvtColor(erosion, cv2.COLOR_GRAY2BGR)\n",
        "output_image2 = cv2.drawContours(output_image2, contours, contourIdx=-1, color=(171,171,171),thickness=1)\n",
        "output_image2 = 255 - output_image2\n",
        "\n",
        "\n",
        "# 文字の角度を変えたいなら、ここの数値を変えてください\n",
        "angle = 5\n",
        "h, w = image.shape[:2]\n",
        "affine = cv2.getRotationMatrix2D((w/2.0, h/2.0), angle, 1.0)\n",
        "erosion2 = cv2.warpAffine(output_image2, affine, (w,h))\n",
        "\n",
        "cv2_imshow(erosion2)\n",
        "\n",
        "# 加工した画像の書き込み\n",
        "cv2.imwrite('/content/drive/MyDrive/dataset2', erosion2)"
      ],
      "metadata": {
        "colab": {
          "base_uri": "https://localhost:8080/",
          "height": 550
        },
        "id": "w9Px9VodmvAk",
        "outputId": "248ab943-599a-4c84-ac1f-5e19579ee495"
      },
      "execution_count": null,
      "outputs": [
        {
          "output_type": "display_data",
          "data": {
            "text/plain": [
              "<PIL.Image.Image image mode=L size=129x129 at 0x7F74B1492810>"
            ],
            "image/png": "[encoded data removed]"
          },
          "metadata": {}
        },
        {
          "output_type": "display_data",
          "data": {
            "text/plain": [
              "<PIL.Image.Image image mode=RGB size=129x129 at 0x7F74B1489CD0>"
            ],
            "image/png": "[encoded data removed]"
          },
          "metadata": {}
        },
        {
          "output_type": "display_data",
          "data": {
            "text/plain": [
              "<PIL.Image.Image image mode=L size=129x129 at 0x7F74B1489E10>"
            ],
            "image/png": "[encoded data removed]"
          },
          "metadata": {}
        },
        {
          "output_type": "display_data",
          "data": {
            "text/plain": [
              "<PIL.Image.Image image mode=RGB size=129x129 at 0x7F74B1489E10>"
            ],
            "image/png": "[encoded data removed]"
          },
          "metadata": {}
        },
        {
          "output_type": "execute_result",
          "data": {
            "text/plain": [
              "True"
            ]
          },
          "metadata": {},
          "execution_count": 53
        }
      ]
    },
    {
      "cell_type": "markdown",
      "source": [
        "②-3.②-1のコードで、納得のいかない文字の出力が出た場合の修正のためのコード↓"
      ],
      "metadata": {
        "id": "_c2gsFoNBDl6"
      }
    },
    {
      "cell_type": "code",
      "source": [
        "import cv2\n",
        "import numpy as np\n",
        "from google.colab.patches import cv2_imshow\n",
        "\n",
        "# datasetは、自分が読み込ませたい画像のパスを書く\n",
        "image = cv2.imread('/content/drive/MyDrive/dataset',0)\n",
        "# 文字の太さを変えるならここの数値を変えてください\n",
        "kernel = np.ones((3,5),np.uint8)\n",
        "erosion = cv2.erode(image,kernel,iterations = 1)\n",
        "\n",
        "cv2_imshow(erosion)\n",
        "\n",
        "erosion = 255 - erosion\n",
        "\n",
        "contours, hierarchy = cv2.findContours(erosion, cv2.RETR_LIST, cv2.CHAIN_APPROX_NONE)\n",
        "output_image = cv2.cvtColor(erosion, cv2.COLOR_GRAY2BGR)\n",
        "# thicknessの値を変えると、輪郭の線の太さを変えることができます\n",
        "output_image = cv2.drawContours(output_image, contours, contourIdx=-1, color=(171,171,171),thickness=1)\n",
        "output_image = 255 - output_image\n",
        "\n",
        "#加工した画像の書き込み\n",
        "cv2.imwrite('/content/drive/MyDrive/dataset2', output_image)\n",
        "cv2_imshow(output_image)\n",
        "\n",
        "#加工した画像を再度加工\n",
        "image2 = cv2.imread('/content/drive/MyDrive/dataset2',0)\n",
        "# 文字を細くしたいなら、ここの数値を変えてください\n",
        "change = np.ones((2,2),np.uint8)\n",
        "dilation = cv2.dilate(image2,change,iterations=1)\n",
        "cv2_imshow(dilation)\n",
        "\n",
        "dilation = 255 - dilation\n",
        "\n",
        "contours, hierarchy = cv2.findContours(dilation, cv2.RETR_LIST, cv2.CHAIN_APPROX_NONE)\n",
        "output_image2 = cv2.cvtColor(dilation, cv2.COLOR_GRAY2BGR)\n",
        "output_image2 = cv2.drawContours(output_image2, contours, contourIdx=-1, color=(171,171,171),thickness=1)\n",
        "output_image2 = 255 - output_image2\n",
        "\n",
        "\n",
        "# 文字の角度を変えたいなら、ここの数値を変えてください\n",
        "angle = 3\n",
        "h, w = image.shape[:2]\n",
        "affine = cv2.getRotationMatrix2D((w/2.0, h/2.0), angle, 1.0)\n",
        "dilation2 = cv2.warpAffine(output_image2, affine, (w,h))\n",
        "\n",
        "cv2_imshow(dilation2)\n",
        "#加工した画像の書き込み\n",
        "cv2.imwrite('/content/drive/MyDrive/dataset2', dilation2)"
      ],
      "metadata": {
        "colab": {
          "base_uri": "https://localhost:8080/",
          "height": 550
        },
        "id": "gZWUILEA-d7U",
        "outputId": "f6c43286-9a65-4976-8822-e6de8e196ddc"
      },
      "execution_count": null,
      "outputs": [
        {
          "output_type": "display_data",
          "data": {
            "text/plain": [
              "<PIL.Image.Image image mode=L size=129x129 at 0x7F74B14459D0>"
            ],
            "image/png": "[encoded data removed]"
          },
          "metadata": {}
        },
        {
          "output_type": "display_data",
          "data": {
            "text/plain": [
              "<PIL.Image.Image image mode=RGB size=129x129 at 0x7F74B14459D0>"
            ],
            "image/png": "[encoded data removed]"
          },
          "metadata": {}
        },
        {
          "output_type": "display_data",
          "data": {
            "text/plain": [
              "<PIL.Image.Image image mode=L size=129x129 at 0x7F74B1445B50>"
            ],
            "image/png": "[encoded data removed]"
          },
          "metadata": {}
        },
        {
          "output_type": "display_data",
          "data": {
            "text/plain": [
              "<PIL.Image.Image image mode=RGB size=129x129 at 0x7F74B1445A50>"
            ],
            "image/png": "[encoded data removed]"
          },
          "metadata": {}
        },
        {
          "output_type": "execute_result",
          "data": {
            "text/plain": [
              "True"
            ]
          },
          "metadata": {},
          "execution_count": 34
        }
      ]
    }
  ]
}