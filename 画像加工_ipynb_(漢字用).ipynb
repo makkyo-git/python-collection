{
  "cells": [
    {
      "cell_type": "markdown",
      "metadata": {
        "id": "view-in-github",
        "colab_type": "text"
      },
      "source": [
        "<a href=\"https://colab.research.google.com/github/makkyo-git/python-collection/blob/mabo/%E7%94%BB%E5%83%8F%E5%8A%A0%E5%B7%A5_ipynb_(%E6%BC%A2%E5%AD%97%E7%94%A8).ipynb\" target=\"_parent\"><img src=\"https://colab.research.google.com/assets/colab-badge.svg\" alt=\"Open In Colab\"/></a>"
      ]
    },
    {
      "cell_type": "code",
      "execution_count": null,
      "metadata": {
        "colab": {
          "base_uri": "https://localhost:8080/"
        },
        "id": "fTGa9BdbbRrd",
        "outputId": "68cc4193-62ae-4caa-bf87-51b25eda1351"
      },
      "outputs": [
        {
          "output_type": "stream",
          "name": "stdout",
          "text": [
            "Mounted at /content/drive/\n"
          ]
        }
      ],
      "source": [
        "from google.colab import drive\n",
        "drive.mount('/content/drive/')"
      ]
    },
    {
      "cell_type": "code",
      "execution_count": null,
      "metadata": {
        "colab": {
          "base_uri": "https://localhost:8080/"
        },
        "id": "Bw9Ehhz5Yykg",
        "outputId": "212b8db5-5ae6-4a9b-946a-aa54929f17e1"
      },
      "outputs": [
        {
          "name": "stdout",
          "output_type": "stream",
          "text": [
            "Looking in indexes: https://pypi.org/simple, https://us-python.pkg.dev/colab-wheels/public/simple/\n",
            "Requirement already satisfied: opencv-python in /usr/local/lib/python3.7/dist-packages (4.6.0.66)\n",
            "Requirement already satisfied: numpy>=1.14.5 in /usr/local/lib/python3.7/dist-packages (from opencv-python) (1.21.6)\n"
          ]
        }
      ],
      "source": [
        "!pip3 install opencv-python"
      ]
    },
    {
      "cell_type": "markdown",
      "metadata": {
        "id": "CCU7o81Ck6EC"
      },
      "source": [
        "① 画像の輝度値数を変え、角度を変えるコード↓"
      ]
    },
    {
      "cell_type": "code",
      "execution_count": null,
      "metadata": {
        "colab": {
          "base_uri": "https://localhost:8080/",
          "height": 292
        },
        "id": "pXdb7OQZMtoi",
        "outputId": "2b15f5c3-a4d4-49e3-e2f4-7503e28169fa"
      },
      "outputs": [
        {
          "output_type": "display_data",
          "data": {
            "text/plain": [
              "<PIL.Image.Image image mode=L size=129x129 at 0x7FB58B433610>"
            ],
            "image/png": "[encoded data removed]"
          },
          "metadata": {}
        },
        {
          "output_type": "display_data",
          "data": {
            "text/plain": [
              "<PIL.Image.Image image mode=L size=129x129 at 0x7FB58B433610>"
            ],
            "image/png": "[encoded data removed]"
          },
          "metadata": {}
        },
        {
          "output_type": "execute_result",
          "data": {
            "text/plain": [
              "True"
            ]
          },
          "metadata": {},
          "execution_count": 239
        }
      ],
      "source": [
        "import cv2\n",
        "import numpy as np\n",
        "from google.colab.patches import cv2_imshow\n",
        "# datasetは、自分が読み込ませたい画像のパスを書く\n",
        "img=cv2.imread('/content/drive/MyDrive/dataset',0)\n",
        "# γ変換の値(文字の濃さを変えるなら、この数値を変えてください)\n",
        "gamma=0.1\n",
        "# γ変換の対応表を作る対応表を作る\n",
        "LUT_Table=np.zeros((256,1),dtype='uint8')\n",
        "for i in range(len(LUT_Table)):\n",
        "    LUT_Table[i][0]=255*(float(i)/255)**(1.0/gamma)\n",
        "\n",
        "# γ変換をする\n",
        "img_gamma=cv2.LUT(img,LUT_Table)\n",
        "\n",
        "#画像の表示\n",
        "cv2_imshow(img_gamma)\n",
        "\n",
        "#加工した画像の書き込み\n",
        "cv2.imwrite('/content/drive/MyDrive/dataset2', img_gamma)\n",
        "\n",
        "# 文字の角度を変えたいなら、ここの数値を変えてください\n",
        "angle = 5\n",
        "h, w = img.shape[:2]\n",
        "affine = cv2.getRotationMatrix2D((w/2.0, h/2.0), angle, 1.0)\n",
        "img_gamma2 = cv2.warpAffine(img_gamma, affine, (w,h))\n",
        "\n",
        "cv2_imshow(img_gamma2)\n",
        "#再度、加工した画像を書き込み\n",
        "cv2.imwrite('/content/drive/MyDrive/dataset2', img_gamma2)"
      ]
    },
    {
      "cell_type": "markdown",
      "metadata": {
        "id": "OeB42-l34JL2"
      },
      "source": [
        "② 画像の輝度値数を変え、線を細くするコード↓"
      ]
    },
    {
      "cell_type": "code",
      "execution_count": null,
      "metadata": {
        "colab": {
          "base_uri": "https://localhost:8080/",
          "height": 421
        },
        "id": "tQ2tWeO9xG7H",
        "outputId": "ffe8e6b4-c4aa-4433-dd38-9753041c679d"
      },
      "outputs": [
        {
          "output_type": "display_data",
          "data": {
            "text/plain": [
              "<PIL.Image.Image image mode=L size=129x129 at 0x7FB5FB0E4810>"
            ],
            "image/png": "[encoded data removed]"
          },
          "metadata": {}
        },
        {
          "output_type": "display_data",
          "data": {
            "text/plain": [
              "<PIL.Image.Image image mode=L size=129x129 at 0x7FB5FB12B6D0>"
            ],
            "image/png": "[encoded data removed]"
          },
          "metadata": {}
        },
        {
          "output_type": "display_data",
          "data": {
            "text/plain": [
              "<PIL.Image.Image image mode=L size=129x129 at 0x7FB5FB12B2D0>"
            ],
            "image/png": "[encoded data removed]"
          },
          "metadata": {}
        },
        {
          "output_type": "execute_result",
          "data": {
            "text/plain": [
              "True"
            ]
          },
          "metadata": {},
          "execution_count": 231
        }
      ],
      "source": [
        "import cv2\n",
        "import numpy as np\n",
        "from google.colab.patches import cv2_imshow\n",
        "\n",
        "# datasetは、自分が読み込ませたい画像のパスを書く\n",
        "img=cv2.imread('/content/drive/MyDrive/dataset',0)\n",
        "# γ変換の値(文字の濃さを変えるなら、この数値を変えてください)\n",
        "gamma=0.5\n",
        "# γ変換の対応表を作る対応表を作る\n",
        "LUT_Table=np.zeros((256,1),dtype='uint8')\n",
        "for i in range(len(LUT_Table)):\n",
        "    LUT_Table[i][0]=255*(float(i)/255)**(1.0/gamma)\n",
        "\n",
        "# γ変換をする\n",
        "img_gamma=cv2.LUT(img,LUT_Table)\n",
        "\n",
        "#画像の表示\n",
        "cv2_imshow(img_gamma)\n",
        "\n",
        "#加工した画像の書き込み\n",
        "cv2.imwrite('/content/drive/MyDrive/dataset2', img_gamma)\n",
        "\n",
        "# 文字の角度を変えたいなら、ここの数値を変えてください\n",
        "angle = 3\n",
        "h, w = img.shape[:2]\n",
        "affine = cv2.getRotationMatrix2D((w/2.0, h/2.0), angle, 1.0)\n",
        "img_gamma2 = cv2.warpAffine(img_gamma, affine, (w,h))\n",
        "\n",
        "cv2_imshow(img_gamma2)\n",
        "cv2.imwrite('/content/drive/MyDrive/dataset2', img_gamma2)\n",
        "\n",
        "image = cv2.imread('/content/drive/MyDrive/dataset2', 0)\n",
        "# 文字の細さを変えるなら、ここの数値を変えてください\n",
        "kernel = np.ones((2,2),np.uint8)\n",
        "dilation = cv2.dilate(image,kernel,iterations = 1)\n",
        "\n",
        "cv2_imshow(dilation)\n",
        "# 再度、加工した画像を書き込み\n",
        "cv2.imwrite('/content/drive/MyDrive/dataset2', dilation)"
      ]
    },
    {
      "cell_type": "markdown",
      "metadata": {
        "id": "Xwr2PFqWFqma"
      },
      "source": [
        "②-2. 画像の輝度値数を変え、線を細くするコード②↓"
      ]
    },
    {
      "cell_type": "code",
      "execution_count": null,
      "metadata": {
        "colab": {
          "base_uri": "https://localhost:8080/",
          "height": 421
        },
        "id": "7YafBZGwFoAP",
        "outputId": "a911ec56-99fc-48c4-feb1-0fd90527f4d0"
      },
      "outputs": [
        {
          "output_type": "display_data",
          "data": {
            "text/plain": [
              "<PIL.Image.Image image mode=L size=129x129 at 0x7FB5FB0A9DD0>"
            ],
            "image/png": "[encoded data removed]"
          },
          "metadata": {}
        },
        {
          "output_type": "display_data",
          "data": {
            "text/plain": [
              "<PIL.Image.Image image mode=L size=129x129 at 0x7FB5FB0A9390>"
            ],
            "image/png": "[encoded data removed]"
          },
          "metadata": {}
        },
        {
          "output_type": "display_data",
          "data": {
            "text/plain": [
              "<PIL.Image.Image image mode=L size=129x129 at 0x7FB5FB0A99D0>"
            ],
            "image/png": "[encoded data removed]"
          },
          "metadata": {}
        },
        {
          "output_type": "execute_result",
          "data": {
            "text/plain": [
              "True"
            ]
          },
          "metadata": {},
          "execution_count": 232
        }
      ],
      "source": [
        "import cv2\n",
        "import numpy as np\n",
        "from google.colab.patches import cv2_imshow\n",
        "\n",
        "# datasetは、自分が読み込ませたい画像のパスを書く\n",
        "img=cv2.imread('/content/drive/MyDrive/dataset',0)\n",
        "# γ変換の値(文字の濃さを変えるなら、この数値を変えてください)\n",
        "gamma=0.3\n",
        "# γ変換の対応表を作る対応表を作る\n",
        "LUT_Table=np.zeros((256,1),dtype='uint8')\n",
        "for i in range(len(LUT_Table)):\n",
        "    LUT_Table[i][0]=255*(float(i)/255)**(1.0/gamma)\n",
        "\n",
        "# γ変換をする\n",
        "img_gamma=cv2.LUT(img,LUT_Table)\n",
        "\n",
        "#画像の表示\n",
        "cv2_imshow(img_gamma)\n",
        "\n",
        "#加工した画像の書き込み\n",
        "cv2.imwrite('/content/drive/MyDrive/dataset2', img_gamma)\n",
        "\n",
        "# 文字の角度を変えたいなら、ここの数値を変えてください\n",
        "angle = 5\n",
        "h, w = img.shape[:2]\n",
        "affine = cv2.getRotationMatrix2D((w/2.0, h/2.0), angle, 1.0)\n",
        "img_gamma2 = cv2.warpAffine(img_gamma, affine, (w,h))\n",
        "\n",
        "cv2_imshow(img_gamma2)\n",
        "cv2.imwrite('/content/drive/MyDrive/dataset2', img_gamma2)\n",
        "\n",
        "image = cv2.imread('/content/drive/MyDrive/dataset2', 0)\n",
        "# 文字の細さを変えるなら、ここの数値を変えてください\n",
        "kernel = np.ones((1,2),np.uint8)\n",
        "dilation = cv2.dilate(image,kernel,iterations = 1)\n",
        "\n",
        "cv2_imshow(dilation)\n",
        "# 再度、加工した画像を書き込み\n",
        "cv2.imwrite('/content/drive/MyDrive/dataset2', dilation)"
      ]
    },
    {
      "cell_type": "markdown",
      "metadata": {
        "id": "RTfCe5nyji_y"
      },
      "source": [
        "③ ノイズを消すためのコード"
      ]
    },
    {
      "cell_type": "code",
      "execution_count": null,
      "metadata": {
        "colab": {
          "base_uri": "https://localhost:8080/",
          "height": 550
        },
        "id": "w9Px9VodmvAk",
        "outputId": "43c26980-4e10-4ec3-d46a-31efe3384339"
      },
      "outputs": [
        {
          "output_type": "display_data",
          "data": {
            "text/plain": [
              "<PIL.Image.Image image mode=L size=129x129 at 0x7FB5FB073710>"
            ],
            "image/png": "[encoded data removed]"
          },
          "metadata": {}
        },
        {
          "output_type": "display_data",
          "data": {
            "text/plain": [
              "<PIL.Image.Image image mode=RGB size=129x129 at 0x7FB5FB073750>"
            ],
            "image/png": "[encoded data removed]"
          },
          "metadata": {}
        },
        {
          "output_type": "display_data",
          "data": {
            "text/plain": [
              "<PIL.Image.Image image mode=L size=129x129 at 0x7FB5FB073710>"
            ],
            "image/png": "[encoded data removed]"
          },
          "metadata": {}
        },
        {
          "output_type": "display_data",
          "data": {
            "text/plain": [
              "<PIL.Image.Image image mode=RGB size=129x129 at 0x7FB5FB073290>"
            ],
            "image/png": "[encoded data removed]"
          },
          "metadata": {}
        },
        {
          "output_type": "execute_result",
          "data": {
            "text/plain": [
              "True"
            ]
          },
          "metadata": {},
          "execution_count": 233
        }
      ],
      "source": [
        "import cv2\n",
        "import numpy as np\n",
        "from google.colab.patches import cv2_imshow\n",
        "\n",
        "# datasetは、自分が読み込ませたい画像のパスを書く\n",
        "image = cv2.imread('/content/drive/MyDrive/dataset',0)\n",
        "# 文字の細さを変えるなら、ここの数値を変えてください\n",
        "kernel = np.ones((3,2),np.uint8)\n",
        "dilation = cv2.dilate(image,kernel,iterations = 1)\n",
        "\n",
        "cv2_imshow(dilation)\n",
        "\n",
        "dilation = 255 - dilation\n",
        "\n",
        "contours, hierarchy = cv2.findContours(dilation, cv2.RETR_LIST, cv2.CHAIN_APPROX_NONE)\n",
        "output_image = cv2.cvtColor(dilation, cv2.COLOR_GRAY2BGR)\n",
        "# thicknessの値を変えると、輪郭の線の太さを変えることができます\n",
        "output_image = cv2.drawContours(output_image, contours, contourIdx=-1, color=(171,171,171),thickness=1)\n",
        "output_image = 255 - output_image\n",
        "\n",
        "# 加工した画像の書き込み\n",
        "cv2.imwrite('/content/drive/MyDrive/dataset2', output_image)\n",
        "cv2_imshow(output_image)\n",
        "\n",
        "image2 = cv2.imread('/content/drive/MyDrive/dataset2',0)\n",
        "# 文字の太さを変えるなら、ここの数値を変えてください\n",
        "change = np.ones((2,3),np.uint8)\n",
        "erosion = cv2.erode(image2,change,iterations=1)\n",
        "cv2_imshow(erosion)\n",
        "\n",
        "erosion = 255 - erosion\n",
        "\n",
        "contours, hierarchy = cv2.findContours(dilation, cv2.RETR_LIST, cv2.CHAIN_APPROX_NONE)\n",
        "output_image2 = cv2.cvtColor(erosion, cv2.COLOR_GRAY2BGR)\n",
        "output_image2 = cv2.drawContours(output_image2, contours, contourIdx=-1, color=(171,171,171),thickness=1)\n",
        "output_image2 = 255 - output_image2\n",
        "\n",
        "\n",
        "# 文字の角度を変えたいなら、ここの数値を変えてください\n",
        "angle = 5\n",
        "h, w = image.shape[:2]\n",
        "affine = cv2.getRotationMatrix2D((w/2.0, h/2.0), angle, 1.0)\n",
        "erosion2 = cv2.warpAffine(output_image2, affine, (w,h))\n",
        "\n",
        "cv2_imshow(erosion2)\n",
        "#再度、加工した画像を書き込み\n",
        "cv2.imwrite('/content/drive/MyDrive/dataset2', erosion2)"
      ]
    },
    {
      "cell_type": "code",
      "execution_count": null,
      "metadata": {
        "colab": {
          "base_uri": "https://localhost:8080/"
        },
        "id": "BebB4KyQVV5i",
        "outputId": "17f7858b-1f08-4673-d45e-34895a376fc6"
      },
      "outputs": [
        {
          "output_type": "execute_result",
          "data": {
            "text/plain": [
              "5607"
            ]
          },
          "metadata": {},
          "execution_count": 240
        }
      ],
      "source": [
        "# datasetの数を知るためのコード\n",
        "import torchvision.datasets as dset\n",
        "\n",
        "dataroot = '/content/drive/MyDrive/dataset'\n",
        "dataset = dset.ImageFolder(root=dataroot)\n",
        "\n",
        "len(dataset)"
      ]
    }
  ],
  "metadata": {
    "colab": {
      "provenance": [],
      "authorship_tag": "ABX9TyP0kOqoc94aN407/CWTbfMK",
      "include_colab_link": true
    },
    "kernelspec": {
      "display_name": "Python 3",
      "name": "python3"
    },
    "language_info": {
      "name": "python"
    }
  },
  "nbformat": 4,
  "nbformat_minor": 0
}